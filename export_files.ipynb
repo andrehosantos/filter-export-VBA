{
 "cells": [
  {
   "cell_type": "code",
   "execution_count": null,
   "id": "03d3e6e7-35f7-418f-832d-98aa7a30ec2a",
   "metadata": {
    "tags": []
   },
   "outputs": [],
   "source": [
    "%pip install xlrd\n",
    "%pip install openpyxl\n",
    "%pip install xlwt\n",
    "%pip install openpyxl"
   ]
  },
  {
   "cell_type": "code",
   "execution_count": null,
   "id": "5f1b3dd4-1640-4dd8-8b90-56fc404e3a92",
   "metadata": {
    "tags": []
   },
   "outputs": [],
   "source": [
    "import pandas as pd\n",
    "import os\n",
    "\n",
    "\n",
    "img = 'img.xlsx'\n",
    "originais = './originais/'\n",
    "exportados = './exportados/'\n",
    "header = [\n",
    "    \"Descrição\",\n",
    "    \"MATRIZ\",\n",
    "    \"JUAZEIRO\",\n",
    "    \"FORQUILHA\",\n",
    "    \"Cód Fornecedor*\",\n",
    "    \"Nome do fornecedor\",\n",
    "    \"FANTASIA_ORIGINAL\",\n",
    "     \"Qtde embalagem master\",\n",
    "    \"EAN\",\n",
    "    \"FANTASIA\",\n",
    "    \"SEQ\",\n",
    "    \"@img\"\n",
    "]\n",
    "lojas = [\n",
    "    \"MATRIZ\",\n",
    "    \"JUAZEIRO\",\n",
    "    \"FORQUILHA\"\n",
    "]\n",
    "files = []\n",
    "\n",
    "for r, d, f in os.walk(originais):\n",
    "    for file in f:\n",
    "        files.append(os.path.join(r, file))\n",
    "print(files)"
   ]
  },
  {
   "cell_type": "code",
   "execution_count": null,
   "id": "a9fbe3c9-42b5-4df5-bd18-e4b388603087",
   "metadata": {
    "tags": []
   },
   "outputs": [],
   "source": [
    "with open(img, 'rb') as f:\n",
    "    img_df = pd.read_excel(f, 0, index_col=1)\n",
    "    \n",
    "for file in files:\n",
    "    with open(file, 'rb') as f:\n",
    "        products_df = pd.read_excel(file, 0, index_col=0)\n",
    "    mapping_dict = {col: header[i] for i, col in enumerate(products_df.columns)}\n",
    "    products_df = products_df.rename(columns=mapping_dict)\n",
    "    products_df['SEQ'] = list(range(1, len(products_df)+1))\n",
    "    products_df['FANTASIA'] = \"\"\n",
    "    products_df['@img'] = products_df['EAN'].astype(\"str\") + \".png\"\n",
    "    products_df[products_df['MATRIZ'] == \"Não(N)\"].head()\n",
    "    for loja in lojas:\n",
    "        not_export = filter(lambda item: item!=loja, lojas)\n",
    "        fantasia = products_df['FANTASIA_ORIGINAL'].iloc[0]\n",
    "        products_df['FANTASIA'] = f\"{fantasia} {loja}\"\n",
    "        products_df[products_df[loja] == \"Não(N)\"].drop(columns=list(not_export)).to_excel(f\"{exportados}{fantasia} {loja}.xls\")\n",
    "        products_df.columns"
   ]
  }
 ],
 "metadata": {
  "kernelspec": {
   "display_name": "Python 3 (ipykernel)",
   "language": "python",
   "name": "python3"
  },
  "language_info": {
   "codemirror_mode": {
    "name": "ipython",
    "version": 3
   },
   "file_extension": ".py",
   "mimetype": "text/x-python",
   "name": "python",
   "nbconvert_exporter": "python",
   "pygments_lexer": "ipython3",
   "version": "3.9.16"
  }
 },
 "nbformat": 4,
 "nbformat_minor": 5
}
